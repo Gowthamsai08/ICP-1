{
  "nbformat": 4,
  "nbformat_minor": 0,
  "metadata": {
    "colab": {
      "provenance": []
    },
    "kernelspec": {
      "name": "python3",
      "display_name": "Python 3"
    },
    "language_info": {
      "name": "python"
    }
  },
  "cells": [
    {
      "cell_type": "code",
      "source": [
        "# method to print full name by combining firstname and lastname\n",
        "def full__Name(fName, lName):\n",
        "    Full_name = first__Name + \" \" + last__Name\n",
        "    print(\"Your full name is \", Full_name)\n",
        "\n",
        "# method to print alternative characters of a string\n",
        "def string_alternative(str):\n",
        "    print(\"Alternative characters are \" + str[::2])\n",
        "\n",
        "if __name__ == \"__main__\":\n",
        "    first__Name = input(\"Enter your first Name: \")\n",
        "    last__Name = input(\"Enter your last Name: \")\n",
        "    full__Name(first__Name, last__Name)\n",
        "    str = input(\"Enter a string to print alternate characters: \")\n",
        "    string_alternative(str)"
      ],
      "metadata": {
        "colab": {
          "base_uri": "https://localhost:8080/"
        },
        "id": "fVRDFrYe6LLB",
        "outputId": "e21eb3d1-e11e-405f-869f-c1c9812350d2"
      },
      "execution_count": 2,
      "outputs": [
        {
          "output_type": "stream",
          "name": "stdout",
          "text": [
            "Enter your first Name: Gowtham\n",
            "Enter your last Name: Sai Reddy\n",
            "Your full name is  Gowtham Sai Reddy\n",
            "Enter a string to print alternate characters: GowthamSai\n",
            "Alternative characters are Gwhma\n"
          ]
        }
      ]
    },
    {
      "cell_type": "code",
      "source": [
        "f = open(\"testinput.txt\",\"w\")\n",
        "f.write(\"Python Course\\n\")\n",
        "f.write(\"Deep learning course\\n\")\n",
        "f.close()\n",
        "f= open(\"testinput.txt\",\"r\")\n",
        "print(f.read())"
      ],
      "metadata": {
        "colab": {
          "base_uri": "https://localhost:8080/"
        },
        "id": "WVT44Ysx6ecm",
        "outputId": "43cc6fb5-6923-4203-f889-c51246f43355"
      },
      "execution_count": 3,
      "outputs": [
        {
          "output_type": "stream",
          "name": "stdout",
          "text": [
            "Python Course\n",
            "Deep learning course\n",
            "\n"
          ]
        }
      ]
    },
    {
      "cell_type": "code",
      "source": [
        "from collections import Counter\n",
        "\n",
        "# Reading input from input.txt\n",
        "with open('testinput.txt', 'r') as file:\n",
        "    lines = file.readlines()\n",
        "\n",
        "# Processing each line and count words\n",
        "wordcountperline = []\n",
        "\n",
        "for line in lines:\n",
        "    words = line.strip().split()\n",
        "    wordcountperline.append(Counter(words))\n",
        "\n",
        "# Printing the lines\n",
        "for line in lines:\n",
        "    print(line.strip())\n",
        "\n",
        "# Printing word counts for each word\n",
        "print(\"Word_Count:\")\n",
        "for word, count in Counter(word for wc in wordcountperline for word in wc).items():\n",
        "    print(f\"{word}: {count}\")\n",
        "\n",
        "# Storing the output in output.txt\n",
        "with open('testoutput.txt', 'w') as output_file:\n",
        "    for line in lines:\n",
        "        output_file.write(line)\n",
        "    output_file.write(\"Word_Count:\\n\")\n",
        "    for word, count in Counter(word for wc in wordcountperline for word in wc).items():\n",
        "        output_file.write(f\"{word}: {count}\\n\")"
      ],
      "metadata": {
        "colab": {
          "base_uri": "https://localhost:8080/"
        },
        "id": "-q6BtoqO6jK2",
        "outputId": "ac229797-c58b-4e5c-ab5d-b6cd1af97243"
      },
      "execution_count": 4,
      "outputs": [
        {
          "output_type": "stream",
          "name": "stdout",
          "text": [
            "Python Course\n",
            "Deep learning course\n",
            "Word_Count:\n",
            "Python: 1\n",
            "Course: 1\n",
            "Deep: 1\n",
            "learning: 1\n",
            "course: 1\n"
          ]
        }
      ]
    },
    {
      "cell_type": "code",
      "source": [
        "# below code snippet is the conversion of heights from inches to cms\n",
        "# using Nested Interactive loop & List comprehensions\n",
        "heights_List = []\n",
        "elements = int(input(\"Enter size of list: \"))\n",
        "for e in range(elements):\n",
        "    heights_List.append(float(input()))\n",
        "tempHeights_List = [2.54 * item for item in heights_List]\n",
        "print(tempHeights_List)"
      ],
      "metadata": {
        "colab": {
          "base_uri": "https://localhost:8080/"
        },
        "id": "VyrfQUfw679T",
        "outputId": "4472d8e8-2356-4732-85ba-e936a312e009"
      },
      "execution_count": 6,
      "outputs": [
        {
          "output_type": "stream",
          "name": "stdout",
          "text": [
            "Enter size of list: 4\n",
            "150\n",
            "155\n",
            "145\n",
            "148\n",
            "[381.0, 393.7, 368.3, 375.92]\n"
          ]
        }
      ]
    }
  ]
}